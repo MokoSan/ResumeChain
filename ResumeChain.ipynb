{
 "cells": [
  {
   "attachments": {},
   "cell_type": "markdown",
   "metadata": {},
   "source": [
    "# Resume Chain\n",
    "\n",
    "Steps:\n",
    "\n",
    "1. Read in the resume and the job spec.\n",
    "2. Scores the resume in terms of fit based on the job spec.\n",
    "3. Makes suggestions to improve the scoring of the match."
   ]
  },
  {
   "cell_type": "code",
   "execution_count": 1,
   "metadata": {},
   "outputs": [],
   "source": [
    "import os\n",
    "\n",
    "from langchain.llms import OpenAI\n",
    "from langchain.vectorstores import Chroma\n",
    "from langchain.embeddings.openai import OpenAIEmbeddings\n",
    "from langchain.document_loaders import UnstructuredPDFLoader\n",
    "from langchain.llms import OpenAI\n",
    "from langchain.chains.question_answering import load_qa_chain\n",
    "from langchain.document_loaders import TextLoader\n",
    "from langchain.text_splitter import CharacterTextSplitter\n",
    "\n",
    "OPENAI_API_KEY = ''\n",
    "os.environ[\"OPENAI_API_KEY\"] = OPENAI_API_KEY"
   ]
  },
  {
   "attachments": {},
   "cell_type": "markdown",
   "metadata": {},
   "source": [
    "## Load Resume"
   ]
  },
  {
   "attachments": {},
   "cell_type": "markdown",
   "metadata": {},
   "source": [
    "Precondition Checks:\n",
    "\n",
    "1. If the pdf has 2 or less pages.\n",
    "2. If the document is that of a resume."
   ]
  },
  {
   "attachments": {},
   "cell_type": "markdown",
   "metadata": {},
   "source": [
    "## Extracting Information From the Resume "
   ]
  },
  {
   "cell_type": "code",
   "execution_count": 39,
   "metadata": {},
   "outputs": [],
   "source": [
    "import os\n",
    "\n",
    "class ResumeExtractor(object):\n",
    "    def __init__(self, path : str) -> None:\n",
    "\n",
    "        # Precondition checks.\n",
    "        if path == \"\" or path == None:\n",
    "            raise ValueError(f\"The path provided: {path} is not a valid path.\")\n",
    "        if not path.endswith(\".pdf\"):\n",
    "            raise ValueError(f\"The path provided: {path} is not a valid pdf path.\") \n",
    "\n",
    "        self.path = path\n",
    "        loader = UnstructuredPDFLoader(path)\n",
    "        self.pages  = loader.load_and_split()\n",
    "        if (len(self.pages) > 1):\n",
    "            raise ValueError(f\"The resume provided has more than 1 page. Please send a resume with just one page.\")\n",
    "        embeddings = OpenAIEmbeddings()\n",
    "\n",
    "        # Just one page resumes accepted.\n",
    "        self.docsearch = Chroma.from_documents([self.pages[0]], embeddings).as_retriever(search_kwargs={ \"k\": 1 })\n",
    "        self.chain = load_qa_chain(OpenAI(temperature=0, max_tokens=3000), chain_type=\"stuff\")\n",
    "\n",
    "    def ask(self, question : str) -> str:\n",
    "        docs = self.docsearch.get_relevant_documents(question)\n",
    "        output = self.chain.run(input_documents=docs, question=question)\n",
    "        return output\n",
    "\n",
    "    def extract_details(self) -> str:\n",
    "        query_to_extract_info = \"\"\"Using the document, answer the following questions and output valid json with property names enclosed with double quotes with keys: \"is_resume\", \"skills\", \"years_of_experience\", \"experience_summary\", \"achievements\", \"highest_education\", \"specialization\":\n",
    "\n",
    "        1. Is this document of a resume? Answer in \"True\" or \"False\". The answer should correspond to the \"is_resume\" key.\n",
    "        2. What are the candidates skills? The answer should be a json list associated with the \"skills\" key.\n",
    "        3. How many years of experience does the candidate have? The answer should correspond to the \"years_of_experience\" key.\n",
    "        4. Based on the candidate's experience, extract achievements that are backed by numbers that the candidate has made in the form of a json list associated with the \"achievements\" key.\n",
    "        5. What is the candidate's highest education? The answer should either be: High School, Bachelors, Masters, PhD or specify NA if you don't know. This answer should correspond to the \"highest_education\" key.\n",
    "        6. What is the candidate's major or field of study? The answer should correspond to the \"specialization\" key.\"\"\"\n",
    "        return self.ask(query_to_extract_info)"
   ]
  },
  {
   "cell_type": "code",
   "execution_count": 13,
   "metadata": {},
   "outputs": [
    {
     "name": "stderr",
     "output_type": "stream",
     "text": [
      "Using embedded DuckDB without persistence: data will be transient\n",
      "Using embedded DuckDB without persistence: data will be transient\n",
      "Using embedded DuckDB without persistence: data will be transient\n"
     ]
    }
   ],
   "source": [
    "software_engineer_doc            = ResumeExtractor(\"./ResumeExamples/SoftwareEngineer.pdf\")\n",
    "investment_banking_associate_doc = ResumeExtractor(\"./ResumeExamples/InvestmentBankingAssociate.pdf\")\n",
    "business_development_manager_doc = ResumeExtractor(\"./ResumeExamples/BusinessDevelopmentManager.pdf\")"
   ]
  },
  {
   "cell_type": "code",
   "execution_count": 14,
   "metadata": {},
   "outputs": [
    {
     "data": {
      "text/plain": [
       "'FIRST LAST Bay Area, California • +1-234-456-789 • professionalemail@resumeworded.com • linkedin.com/in/username\\n\\nSoftware Engineer with over six years of experience in full-stack development and leading product cycle from conception to completion. Guided a team of 5-15 members through 5+ product launches at a recent experience in a high growth technology startup.\\n\\nPROFESSIONAL EXPERIENCE\\n\\nResume Worded, New York, NY Software Engineer\\n\\n2020 – Present\\n\\nCreated an invoicing system for subscription services that managed monthly invoices and\\n\\nprinted invoices to be sent to customers; increased conversion rate by 15%.\\n\\nCollaborated with internal teams, including graphic design and QA testers to develop and\\n\\nlaunch a new application in just 6 months, ahead of schedule by 6 months.\\n\\nWrote reusable unit test documents to ensure quality control and detect bugs by increasing\\n\\nover 35% efﬁciency rate.\\n\\nGrowthsi, San Diego, CA Software Engineer\\n\\n2016 – 2020\\n\\nAnalyzed information to determine, recommend and plan redesign of a new API; presented\\n\\noutputs to CTO..\\n\\nAnalyzed user needs and software requirements to determine feasibility of design, ensuring\\n\\nproject completion 3 weeks prior to targeted due date.\\n\\nReleased and updated 15+ custom .net applications for company clients in health niches. ● Wrote Python and JavaScript libraries to display real time pricing via SkyScanner’s ﬂights\\n\\npricing API, leading to increased customer satisfaction.\\n\\nTip to jobseeker: Bullet points should be in format [Action Verb] [Accomplishment] [Metric];\\n\\ne.g. Developed x that led to y% improvement\\n\\nRofocus, New York, NY Front-end Developer\\n\\n2012 – 2016\\n\\nImplemented a new responsive website approach increasing mobile trafﬁc by 22%. ● Partnered with back-end developers and created dynamic web pages using Javascript,\\n\\nresulting in website leads increase by 15%.\\n\\nCollaborated on APIs and managed software workﬂow using Scrum methodology,\\n\\nincreasing task success rate by 25%.\\n\\nTip to jobseeker: Bullet points should be in format [Action Verb] [Accomplishment] [Metric];\\n\\ne.g. Developed x that led to y% improvement\\n\\nEDUCATION\\n\\nResume Worded University, San Francisco, CA Bachelor of Electrical Engineering\\n\\n2012\\n\\nAwards: Resume Worded Teaching Fellow (only 5 awarded to class), Dean’s List 2012 (Top 10%) ● Completed one-year study abroad with Singapore University\\n\\nSKILLS & OTHER\\n\\nSkills: CSS, Javascript, Python, Advanced SAP, HTML and XML, Scrum Methodology, Database management software, Software Development Life Cycle Volunteering: Volunteered as Junior Developer in iOS hotel booking application launch project for 3- months (2020).'"
      ]
     },
     "execution_count": 14,
     "metadata": {},
     "output_type": "execute_result"
    }
   ],
   "source": [
    "software_engineer_doc.pages[0].page_content"
   ]
  },
  {
   "cell_type": "code",
   "execution_count": 10,
   "metadata": {},
   "outputs": [],
   "source": [
    "business_dev_manager_details = business_development_manager_doc.extract_details()\n",
    "software_engineering_details = software_engineer_doc.extract_details()"
   ]
  },
  {
   "cell_type": "code",
   "execution_count": 11,
   "metadata": {},
   "outputs": [
    {
     "data": {
      "text/plain": [
       "'\\n{\"is_resume\": \"True\", \"skills\": [\"Microsoft Access\", \"Excel\", \"CRM\", \"D2C ECommerce\", \"SEO/SEM\", \"Project Management Professional (PMP)\", \"ABC Certification\", \"Certified Business Analysis Professional (2013)\"], \"years_of_experience\": 8, \"experience_summary\": \"Generated 300+ leads per month in a team of 5+ sales and marketing employees. Landed 25 global accounts in 8 months through new account strategy. Cut costs by $1 million annually through redesigned marketing spending. Collaborated with leadership, engineering, and marketing teams to develop new offerings that raised sales $300k. Increased customer retention by 25% through facilitating the addition of new product lines unexplored by competitors. Persuaded 5 partners to invest over $200,000 in other entities. Coordinated and hosted 15+ conferences, events, and trips for the inside sales team of 10. Generated new business and long-term account opportunities through prospecting and cold-calling, resulting in over $60k in closed new and recurring business. Developed and implemented sales strategies that identified and produced new business in 3 states. Established CRM to improve account tracking, which improved efficiency by 25%. Responsible for 5+ projects directed toward strategic business and organizational objectives. Boosted website traffic by 500+ visitors within 30 days by implementing a social marketing campaign. Increased website efficiency by 30% through resign and improved content and conversion rate driven by consumer analysis. Assisted 10 investment and senior management staff with over 50 marketing and business development requests. Leveraged online presentation library to create finalist sales pitch presentations, supporting the increase of sales by 15%. Provided assistance on business development opportunities with over 15 new clients.\", \"achievements\": [\"Generated 300+ leads per month\", \"Landed 25 global accounts in 8 months\", \"Cut costs by $1 million annually\", \"Raised sales $300k\", \"Increased customer retention by 25%\", \"Persuaded 5 partners to invest over $200,000\", \"Generated over $60k in closed new and recurring business\", \"Boosted website traffic by 500+ visitors within 30 days\", \"Increased website efficiency by 30%\"], \"highest_education\": \"Masters\", \"specialization\": \"Business Management\"}'"
      ]
     },
     "execution_count": 11,
     "metadata": {},
     "output_type": "execute_result"
    }
   ],
   "source": [
    "business_dev_manager_details"
   ]
  },
  {
   "cell_type": "code",
   "execution_count": 12,
   "metadata": {},
   "outputs": [],
   "source": [
    "import json\n",
    "\n",
    "business_dev_manager_details = json.loads(business_dev_manager_details)\n",
    "software_engineering_details = json.loads(software_engineering_details)"
   ]
  },
  {
   "cell_type": "code",
   "execution_count": 16,
   "metadata": {},
   "outputs": [
    {
     "name": "stdout",
     "output_type": "stream",
     "text": [
      "{'is_resume': 'True', 'skills': ['CSS', 'Javascript', 'Python', 'Advanced SAP', 'HTML and XML', 'Scrum Methodology', 'Database management software', 'Software Development Life Cycle'], 'years_of_experience': 6, 'experience_summary': 'Software Engineer with over six years of experience in full-stack development and leading product cycle from conception to completion. Guided a team of 5-15 members through 5+ product launches at a recent experience in a high growth technology startup.', 'achievements': ['increased conversion rate by 15%', 'launched a new application in just 6 months, ahead of schedule by 6 months', 'increased efﬁciency rate by 35%', 'increased mobile trafﬁc by 22%', 'created website leads increase by 15%', 'increased task success rate by 25%'], 'highest_education': 'Bachelors', 'specialization': 'Electrical Engineering'}\n"
     ]
    }
   ],
   "source": [
    "print(software_engineering_details)"
   ]
  },
  {
   "cell_type": "code",
   "execution_count": 15,
   "metadata": {},
   "outputs": [
    {
     "name": "stdout",
     "output_type": "stream",
     "text": [
      "{'is_resume': 'True', 'skills': ['Microsoft Access', 'Excel', 'CRM', 'D2C ECommerce', 'SEO/SEM', 'Project Management Professional (PMP)', 'ABC Certification', 'Certified Business Analysis Professional (2013)'], 'years_of_experience': 8, 'experience_summary': 'Generated 300+ leads per month in a team of 5+ sales and marketing employees. Landed 25 global accounts in 8 months through new account strategy. Cut costs by $1 million annually through redesigned marketing spending. Collaborated with leadership, engineering, and marketing teams to develop new offerings that raised sales $300k. Increased customer retention by 25% through facilitating the addition of new product lines unexplored by competitors. Persuaded 5 partners to invest over $200,000 in other entities. Coordinated and hosted 15+ conferences, events, and trips for the inside sales team of 10. Generated new business and long-term account opportunities through prospecting and cold-calling, resulting in over $60k in closed new and recurring business. Developed and implemented sales strategies that identified and produced new business in 3 states. Established CRM to improve account tracking, which improved efficiency by 25%. Responsible for 5+ projects directed toward strategic business and organizational objectives. Boosted website traffic by 500+ visitors within 30 days by implementing a social marketing campaign. Increased website efficiency by 30% through resign and improved content and conversion rate driven by consumer analysis. Assisted 10 investment and senior management staff with over 50 marketing and business development requests. Leveraged online presentation library to create finalist sales pitch presentations, supporting the increase of sales by 15%. Provided assistance on business development opportunities with over 15 new clients.', 'achievements': ['Generated 300+ leads per month', 'Landed 25 global accounts in 8 months', 'Cut costs by $1 million annually', 'Raised sales $300k', 'Increased customer retention by 25%', 'Persuaded 5 partners to invest over $200,000', 'Generated over $60k in closed new and recurring business', 'Boosted website traffic by 500+ visitors within 30 days', 'Increased website efficiency by 30%'], 'highest_education': 'Masters', 'specialization': 'Business Management'}\n"
     ]
    }
   ],
   "source": [
    "print(business_dev_manager_details)"
   ]
  },
  {
   "attachments": {},
   "cell_type": "markdown",
   "metadata": {},
   "source": [
    "## From The Job Description, Get The Details"
   ]
  },
  {
   "cell_type": "code",
   "execution_count": 7,
   "metadata": {},
   "outputs": [],
   "source": [
    "from langchain.chains import RetrievalQA\n",
    "\n",
    "class JobDescriptionExtractor(object):\n",
    "    def __init__(self, path : str):\n",
    "        # Precondition checks.\n",
    "        if path == \"\" or path == None:\n",
    "            raise ValueError(f\"The path provided: {path} is not a valid path.\")\n",
    "\n",
    "        self.path = path\n",
    "        self.loader = TextLoader(path)\n",
    "        documents = self.loader.load()\n",
    "        text_splitter = CharacterTextSplitter(chunk_size=1000, chunk_overlap=200)\n",
    "        texts = text_splitter.split_documents(documents)\n",
    "        embeddings = OpenAIEmbeddings()\n",
    "        self.docsearch = Chroma.from_documents(texts, embeddings).as_retriever(search_kwargs = { \"k\" : 1 })\n",
    "        #self.chain = load_qa_chain(llm = OpenAI(temperature= 0, max_tokens=3000), chain_type=\"stuff\")\n",
    "        llm = OpenAI(temperature= 0, max_tokens=3000)\n",
    "        self.chain = RetrievalQA.from_chain_type(llm=llm, chain_type=\"stuff\", retriever=self.docsearch)\n",
    "\n",
    "    def ask(self, question : str) -> str:\n",
    "        #docs = self.docsearch.get_relevant_documents(question)\n",
    "        #output = self.chain.run(input_documents=docs, question=question)\n",
    "        output = self.chain.run(question)\n",
    "        return output\n",
    "\n",
    "    def extract_details(self) -> str:\n",
    "        query_to_extract_info = \"\"\"Using the document, answer the following questions and output valid json with property names enclosed with double quotes with keys: \"is_job_description\", \"skills_required\", \"responsibilities\", \"qualifications\", \"preferences\":\n",
    "\n",
    "        1. Is this document of a job description? Answer in \"True\" or \"False\". The answer should correspond to the \"is_job_description\" key.\n",
    "        2. What are the skills required? The answer should be a json list associated with the \"skills_required\" key.\n",
    "        3. What are the responsibilities? The answer should be a json list associated with the \"responsibilities\" key.\n",
    "        4. What are the qualifications required? The answer should be in the form of a json list associated with the \"qualifications\" key.\n",
    "        5. What are the preferences or preferred qualifications or skills? The answer should be in the form of a json list associated with the preferences key.\n",
    "        \"\"\" \n",
    "        return self.ask(query_to_extract_info)"
   ]
  },
  {
   "cell_type": "code",
   "execution_count": 3,
   "metadata": {},
   "outputs": [
    {
     "name": "stderr",
     "output_type": "stream",
     "text": [
      "Using embedded DuckDB without persistence: data will be transient\n",
      "Using embedded DuckDB without persistence: data will be transient\n"
     ]
    }
   ],
   "source": [
    "software_engineer_job_description = JobDescriptionExtractor(\"./JobDescriptions/SoftwareEngineering.txt\")\n",
    "investment_banking_job_description = JobDescriptionExtractor(\"./JobDescriptions/InvestmentBankingAssociate.txt\")"
   ]
  },
  {
   "cell_type": "code",
   "execution_count": 9,
   "metadata": {},
   "outputs": [],
   "source": [
    "investment_banking_job_details = investment_banking_job_description.extract_details()\n",
    "software_engineer_job_details  = software_engineer_job_description.extract_details()"
   ]
  },
  {
   "cell_type": "code",
   "execution_count": 10,
   "metadata": {},
   "outputs": [
    {
     "name": "stdout",
     "output_type": "stream",
     "text": [
      "{'is_job_description': 'True', 'skills_required': ['Strong leadership skills', 'Ability to assess risks inherent in complex credit transactions and mitigate, structure and negotiate accordingly', 'Excellent problem solving, oral, and written communication skills', 'Extensive knowledge of products and services'], 'responsibilities': ['Champion a culture of innovation and a customer centric mindset', 'Stay up-to-date with industry trends to identify opportunities for innovation or strategic partnerships', 'Find ways to increase efficiency with existing technical infrastructure through automation, while embracing the innovative opportunities offered by new technologies'], 'qualifications': ['3+ years with above average performance results in a similar banking role or credit/lending related experience'], 'preferences': ['Bachelors degree preferred', 'Superior knowledge of the market dynamics and landscape preferred', 'Outstanding professional reputation and integrity']}\n",
      "{'is_job_description': 'True', 'skills_required': ['.NET Software Engineer', '.NET', 'ASP.NET', '.NET Core', 'SQL Server', 'Oracle', 'NoSQL', 'Azure', 'Azure DevOps', 'JavaScript', 'Angular', 'HTML', 'CSS', 'Agile'], 'responsibilities': ['Bring fresh ideas to the table and collaborate with their eclectic team of .NET Software Engineer', 'Approach tasks and projects the way you want'], 'qualifications': ['Good experience with C#', '.NET Core', 'Azure DevOps', 'Angular', 'Agile'], 'preferences': ['Motivated .NET Software Engineer']}\n"
     ]
    }
   ],
   "source": [
    "print(json.loads(investment_banking_job_details))\n",
    "print(json.loads(software_engineer_job_details))"
   ]
  },
  {
   "attachments": {},
   "cell_type": "markdown",
   "metadata": {},
   "source": [
    "## PDF Annotations"
   ]
  },
  {
   "cell_type": "code",
   "execution_count": 12,
   "metadata": {},
   "outputs": [
    {
     "name": "stdout",
     "output_type": "stream",
     "text": [
      "Processing next page...\n",
      "At (259.1873025, 772.496003033) is text: FIRST LAST\n",
      "\n",
      "At (69.09142125, 749.4960016384999) is text: Bay Area, California • +1-234-456-789 • professionalemail@resumeworded.com • linkedin.com/in/username\n",
      "\n",
      "At (57.148429875, 723.33999356025) is text: Software Engineer with over six years of experience in full-stack development and leading product\n",
      "cycle from conception to completion. Guided a team of 5-15 members through 5+ product launches\n",
      "\n",
      "At (157.553787, 696.33999356025) is text: at a recent experience in a high growth technology startup.\n",
      "\n",
      "At (222.37683, 669.84099435675) is text: PROFESSIONAL EXPERIENCE\n",
      "\n",
      "At (54.0, 646.1839943475) is text: Resume Worded, New York, NY\n",
      "Software Engineer\n",
      "\n",
      "At (476.600415, 646.1839943475) is text: 2020 – Present\n",
      "\n",
      "At (72.0, 618.2365130778369) is text: ● Created an invoicing system for subscription services that managed monthly invoices and\n",
      "\n",
      "At (90.0, 604.0900095602501) is text: printed invoices to be sent to customers; increased conversion rate by 15%.\n",
      "\n",
      "At (72.0, 591.236533077837) is text: ● Collaborated with internal teams, including graphic design and QA testers to develop and\n",
      "\n",
      "At (90.0, 577.0900095602501) is text: launch a new application in just 6 months, ahead of schedule by 6 months.\n",
      "\n",
      "At (72.0, 564.236533077837) is text: ● Wrote reusable unit test documents to ensure quality control and detect bugs by increasing\n",
      "\n",
      "At (90.0, 550.0900095602501) is text: over 35% efﬁciency rate.\n",
      "\n",
      "At (54.0, 523.1840203475001) is text: Growthsi, San Diego, CA\n",
      "Software Engineer\n",
      "\n",
      "At (72.0, 495.2365430778369) is text: ● Analyzed information to determine, recommend and plan redesign of a new API; presented\n",
      "\n",
      "At (90.0, 481.09001956025) is text: outputs to CTO..\n",
      "\n",
      "At (72.0, 468.2365430778369) is text: ● Analyzed user needs and software requirements to determine feasibility of design, ensuring\n",
      "\n",
      "At (90.0, 454.09001956025) is text: project completion 3 weeks prior to targeted due date.\n",
      "\n",
      "At (72.0, 441.2365430778369) is text: ● Released and updated 15+ custom .net applications for company clients in health niches.\n",
      "● Wrote Python and JavaScript libraries to display real time pricing via SkyScanner’s ﬂights\n",
      "\n",
      "At (90.0, 413.59001956025) is text: pricing API, leading to increased customer satisfaction.\n",
      "\n",
      "At (72.0, 400.7365430778369) is text: ● Tip to jobseeker: Bullet points should be in format [Action Verb] [Accomplishment] [Metric];\n",
      "\n",
      "At (90.0, 386.59001956025) is text: e.g. Developed x that led to y% improvement\n",
      "\n",
      "At (494.94620999999995, 523.1840203475001) is text: 2016 – 2020\n",
      "\n",
      "At (498.2108475, 359.6840203475) is text: 2012 – 2016\n",
      "\n",
      "At (54.0, 359.6840203475) is text: Rofocus, New York, NY\n",
      "Front-end Developer\n",
      "\n",
      "At (72.0, 331.7365430778369) is text: ● Implemented a new responsive website approach increasing mobile trafﬁc by 22%.\n",
      "● Partnered with back-end developers and created dynamic web pages using Javascript,\n",
      "\n",
      "At (90.0, 304.09001956025) is text: resulting in website leads increase by 15%.\n",
      "\n",
      "At (72.0, 291.2365430778369) is text: ● Collaborated on APIs and managed software workﬂow using  Scrum methodology,\n",
      "\n",
      "At (90.0, 277.0900195602501) is text: increasing task success rate by 25%.\n",
      "\n",
      "At (72.0, 264.236543077837) is text: ● Tip to jobseeker: Bullet points should be in format [Action Verb] [Accomplishment] [Metric];\n",
      "\n",
      "At (90.0, 250.09001956025003) is text: e.g. Developed x that led to y% improvement\n",
      "\n",
      "At (271.19329500000003, 225.84102035675002) is text: EDUCATION\n",
      "\n",
      "At (54.0, 202.59102035675002) is text: Resume Worded University, San Francisco, CA\n",
      "Bachelor of Electrical Engineering\n",
      "\n",
      "At (534.3338025, 202.18402034750002) is text: 2012\n",
      "\n",
      "At (72.0, 174.23654307783696) is text: ● Awards: Resume Worded Teaching Fellow (only 5 awarded to class), Dean’s List 2012 (Top 10%)\n",
      "● Completed one-year study abroad with Singapore University\n",
      "\n",
      "At (259.23911999999996, 135.84102035675005) is text: SKILLS & OTHER\n",
      "\n",
      "At (54.0, 112.09001956025003) is text: Skills: CSS, Javascript, Python, Advanced SAP, HTML and XML, Scrum Methodology, Database\n",
      "management software, Software Development Life Cycle\n",
      "Volunteering: Volunteered  as Junior Developer in iOS hotel booking application launch project for 3-\n",
      "months (2020).\n",
      "\n"
     ]
    }
   ],
   "source": [
    "from pdfminer.layout import LAParams, LTTextBox\n",
    "from pdfminer.pdfpage import PDFPage\n",
    "from pdfminer.pdfinterp import PDFResourceManager\n",
    "from pdfminer.pdfinterp import PDFPageInterpreter\n",
    "from pdfminer.converter import PDFPageAggregator\n",
    "\n",
    "fp = open('./ResumeExamples/SoftwareEngineer.pdf', 'rb')\n",
    "rsrcmgr = PDFResourceManager()\n",
    "laparams = LAParams()\n",
    "device = PDFPageAggregator(rsrcmgr, laparams=laparams)\n",
    "interpreter = PDFPageInterpreter(rsrcmgr, device)\n",
    "pages = PDFPage.get_pages(fp)\n",
    "\n",
    "x, y = 0, 0\n",
    "text_to_coordinates = {}\n",
    "\n",
    "for page in pages:\n",
    "    print('Processing next page...')\n",
    "    interpreter.process_page(page)\n",
    "    layout = device.get_result()\n",
    "    for lobj in layout:\n",
    "        if isinstance(lobj, LTTextBox):\n",
    "            x, y, text = lobj.bbox[0], lobj.bbox[3], lobj.get_text()\n",
    "            text_to_coordinates[text] = x, y\n",
    "            print('At %r is text: %s' % ((x, y), text))"
   ]
  },
  {
   "cell_type": "code",
   "execution_count": 27,
   "metadata": {},
   "outputs": [],
   "source": [
    "from pdf_annotate import PdfAnnotator, Location, Appearance\n",
    "a = PdfAnnotator('./ResumeExamples/SoftwareEngineer.pdf')\n",
    "\n",
    "x, y = text_to_coordinates['FIRST LAST\\n']\n",
    "\n",
    "a.add_annotation(\n",
    "    'square',\n",
    "    Location(x1=x, y1=y, x2=x+30, y2=y+30, page=0),\n",
    "    Appearance(stroke_color=(1, 0, 0), stroke_width=5),\n",
    ")\n",
    "\n",
    "    \n",
    "a.write('./b.pdf')  # or use overwrite=True if you feel lucky"
   ]
  }
 ],
 "metadata": {
  "kernelspec": {
   "display_name": "Python 3",
   "language": "python",
   "name": "python3"
  },
  "language_info": {
   "codemirror_mode": {
    "name": "ipython",
    "version": 3
   },
   "file_extension": ".py",
   "mimetype": "text/x-python",
   "name": "python",
   "nbconvert_exporter": "python",
   "pygments_lexer": "ipython3",
   "version": "3.10.11"
  },
  "orig_nbformat": 4
 },
 "nbformat": 4,
 "nbformat_minor": 2
}
