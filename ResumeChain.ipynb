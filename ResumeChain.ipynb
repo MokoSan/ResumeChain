{
 "cells": [
  {
   "attachments": {},
   "cell_type": "markdown",
   "metadata": {},
   "source": [
    "# Resume Chain\n",
    "\n",
    "Steps:\n",
    "\n",
    "1. Read in the resume and the job spec.\n",
    "2. Scores the resume in terms of fit based on the job spec.\n",
    "3. Makes suggestions to improve the scoring of the match."
   ]
  },
  {
   "cell_type": "code",
   "execution_count": 17,
   "metadata": {},
   "outputs": [],
   "source": [
    "import os\n",
    "\n",
    "from langchain.llms import OpenAI\n",
    "from langchain.vectorstores import Chroma\n",
    "from langchain.embeddings.openai import OpenAIEmbeddings\n",
    "from langchain.document_loaders import UnstructuredPDFLoader\n",
    "from langchain.llms import OpenAI\n",
    "from langchain.chains.question_answering import load_qa_chain\n",
    "\n",
    "OPENAI_API_KEY = 'Enter your OPENAI API KEY'\n",
    "os.environ[\"OPENAI_API_KEY\"] = OPENAI_API_KEY"
   ]
  },
  {
   "attachments": {},
   "cell_type": "markdown",
   "metadata": {},
   "source": [
    "## Load Resume"
   ]
  },
  {
   "attachments": {},
   "cell_type": "markdown",
   "metadata": {},
   "source": [
    "Precondition Checks:\n",
    "\n",
    "1. If the pdf has 2 or less pages.\n",
    "2. If the document is that of a resume."
   ]
  },
  {
   "attachments": {},
   "cell_type": "markdown",
   "metadata": {},
   "source": [
    "## Extracting Information From the Resume "
   ]
  },
  {
   "cell_type": "code",
   "execution_count": 7,
   "metadata": {},
   "outputs": [],
   "source": [
    "import os\n",
    "\n",
    "class ResumeExtractor(object):\n",
    "    def __init__(self, path : str) -> None:\n",
    "\n",
    "        # Precondition checks.\n",
    "        if path == \"\" or path == None:\n",
    "            raise ValueError(f\"The path provided: {path} is not a valid path.\")\n",
    "        if not path.endswith(\".pdf\"):\n",
    "            raise ValueError(f\"The path provided: {path} is not a valid pdf path.\") \n",
    "\n",
    "        self.path = path\n",
    "        loader = UnstructuredPDFLoader(path)\n",
    "        self.pages  = loader.load_and_split()\n",
    "        embeddings = OpenAIEmbeddings()\n",
    "        self.docsearch = Chroma.from_documents([self.pages[0]], embeddings).as_retriever(search_kwargs={ \"k\": 1 })\n",
    "\n",
    "    def ask(self, question : str) -> str:\n",
    "        docs = self.docsearch.get_relevant_documents(question)\n",
    "        chain = load_qa_chain(OpenAI(temperature=0, max_tokens=3000), chain_type=\"stuff\")\n",
    "        output = chain.run(input_documents=docs, question=question)\n",
    "        return output\n",
    "\n",
    "    def extract_details(self) -> str:\n",
    "        query_to_extract_info = \"\"\"Using the document, answer the following questions and output valid json with property names enclosed with double quotes with keys: \"is_resume\", \"skills\", \"years_of_experience\", \"experience_summary\", \"achievements\", \"highest_education\", \"specialization\":\n",
    "\n",
    "        1. Is this document of a resume? Answer in \"True\" or \"False\". The answer should correspond to the \"is_resume key\".\n",
    "        2. What are the candidates skills? The answer should be a json list associated with the \"skills\" key.\n",
    "        3. How many years of experience does the candidate have? The answer should correspond to the \"years_of_experience\" key.\n",
    "        4. Based on the candidate's experience, extract achievements that are backed by numbers that the candidate has made in the form of a json list associated with the \"achievements\" key.\n",
    "        5. What is the candidate's highest education? The answer should either be: High School, Bachelors, Masters, PhD or specify NA if you don't know. This answer should correspond to the \"highest_education\" key.\n",
    "        6. What is the candidate's major or field of study? The answer should correspond to the \"specialization\" key.\"\"\"\n",
    "        return self.ask(query_to_extract_info)"
   ]
  },
  {
   "cell_type": "code",
   "execution_count": 8,
   "metadata": {},
   "outputs": [
    {
     "name": "stderr",
     "output_type": "stream",
     "text": [
      "Using embedded DuckDB without persistence: data will be transient\n",
      "Using embedded DuckDB without persistence: data will be transient\n",
      "Using embedded DuckDB without persistence: data will be transient\n"
     ]
    }
   ],
   "source": [
    "software_engineer_doc            = ResumeExtractor(\"./ResumeExamples/SoftwareEngineer.pdf\")\n",
    "investment_banking_associate_doc = ResumeExtractor(\"./ResumeExamples/InvestmentBankingAssociate.pdf\")\n",
    "business_development_manager_doc = ResumeExtractor(\"./ResumeExamples/BusinessDevelopmentManager.pdf\")"
   ]
  },
  {
   "cell_type": "code",
   "execution_count": 9,
   "metadata": {},
   "outputs": [
    {
     "data": {
      "text/plain": [
       "'FIRST LAST Bay Area, California • +1-234-456-789 • professionalemail@resumeworded.com • linkedin.com/in/username\\n\\nSoftware Engineer with over six years of experience in full-stack development and leading product cycle from conception to completion. Guided a team of 5-15 members through 5+ product launches at a recent experience in a high growth technology startup.\\n\\nPROFESSIONAL EXPERIENCE\\n\\nResume Worded, New York, NY Software Engineer\\n\\n2020 – Present\\n\\nCreated an invoicing system for subscription services that managed monthly invoices and\\n\\nprinted invoices to be sent to customers; increased conversion rate by 15%.\\n\\nCollaborated with internal teams, including graphic design and QA testers to develop and\\n\\nlaunch a new application in just 6 months, ahead of schedule by 6 months.\\n\\nWrote reusable unit test documents to ensure quality control and detect bugs by increasing\\n\\nover 35% efﬁciency rate.\\n\\nGrowthsi, San Diego, CA Software Engineer\\n\\n2016 – 2020\\n\\nAnalyzed information to determine, recommend and plan redesign of a new API; presented\\n\\noutputs to CTO..\\n\\nAnalyzed user needs and software requirements to determine feasibility of design, ensuring\\n\\nproject completion 3 weeks prior to targeted due date.\\n\\nReleased and updated 15+ custom .net applications for company clients in health niches. ● Wrote Python and JavaScript libraries to display real time pricing via SkyScanner’s ﬂights\\n\\npricing API, leading to increased customer satisfaction.\\n\\nTip to jobseeker: Bullet points should be in format [Action Verb] [Accomplishment] [Metric];\\n\\ne.g. Developed x that led to y% improvement\\n\\nRofocus, New York, NY Front-end Developer\\n\\n2012 – 2016\\n\\nImplemented a new responsive website approach increasing mobile trafﬁc by 22%. ● Partnered with back-end developers and created dynamic web pages using Javascript,\\n\\nresulting in website leads increase by 15%.\\n\\nCollaborated on APIs and managed software workﬂow using Scrum methodology,\\n\\nincreasing task success rate by 25%.\\n\\nTip to jobseeker: Bullet points should be in format [Action Verb] [Accomplishment] [Metric];\\n\\ne.g. Developed x that led to y% improvement\\n\\nEDUCATION\\n\\nResume Worded University, San Francisco, CA Bachelor of Electrical Engineering\\n\\n2012\\n\\nAwards: Resume Worded Teaching Fellow (only 5 awarded to class), Dean’s List 2012 (Top 10%) ● Completed one-year study abroad with Singapore University\\n\\nSKILLS & OTHER\\n\\nSkills: CSS, Javascript, Python, Advanced SAP, HTML and XML, Scrum Methodology, Database management software, Software Development Life Cycle Volunteering: Volunteered as Junior Developer in iOS hotel booking application launch project for 3- months (2020).'"
      ]
     },
     "execution_count": 9,
     "metadata": {},
     "output_type": "execute_result"
    }
   ],
   "source": [
    "software_engineer_doc.pages[0].page_content"
   ]
  },
  {
   "cell_type": "code",
   "execution_count": 10,
   "metadata": {},
   "outputs": [],
   "source": [
    "business_dev_manager_details = business_development_manager_doc.extract_details()\n",
    "software_engineering_details = software_engineer_doc.extract_details()"
   ]
  },
  {
   "cell_type": "code",
   "execution_count": 11,
   "metadata": {},
   "outputs": [
    {
     "data": {
      "text/plain": [
       "'\\n{\"is_resume\": \"True\", \"skills\": [\"Microsoft Access\", \"Excel\", \"CRM\", \"D2C ECommerce\", \"SEO/SEM\", \"Project Management Professional (PMP)\", \"ABC Certification\", \"Certified Business Analysis Professional (2013)\"], \"years_of_experience\": 8, \"experience_summary\": \"Generated 300+ leads per month in a team of 5+ sales and marketing employees. Landed 25 global accounts in 8 months through new account strategy. Cut costs by $1 million annually through redesigned marketing spending. Collaborated with leadership, engineering, and marketing teams to develop new offerings that raised sales $300k. Increased customer retention by 25% through facilitating the addition of new product lines unexplored by competitors. Persuaded 5 partners to invest over $200,000 in other entities. Coordinated and hosted 15+ conferences, events, and trips for the inside sales team of 10. Generated new business and long-term account opportunities through prospecting and cold-calling, resulting in over $60k in closed new and recurring business. Developed and implemented sales strategies that identified and produced new business in 3 states. Established CRM to improve account tracking, which improved efficiency by 25%. Responsible for 5+ projects directed toward strategic business and organizational objectives. Boosted website traffic by 500+ visitors within 30 days by implementing a social marketing campaign. Increased website efficiency by 30% through resign and improved content and conversion rate driven by consumer analysis. Assisted 10 investment and senior management staff with over 50 marketing and business development requests. Leveraged online presentation library to create finalist sales pitch presentations, supporting the increase of sales by 15%. Provided assistance on business development opportunities with over 15 new clients.\", \"achievements\": [\"Generated 300+ leads per month\", \"Landed 25 global accounts in 8 months\", \"Cut costs by $1 million annually\", \"Raised sales $300k\", \"Increased customer retention by 25%\", \"Persuaded 5 partners to invest over $200,000\", \"Generated over $60k in closed new and recurring business\", \"Boosted website traffic by 500+ visitors within 30 days\", \"Increased website efficiency by 30%\"], \"highest_education\": \"Masters\", \"specialization\": \"Business Management\"}'"
      ]
     },
     "execution_count": 11,
     "metadata": {},
     "output_type": "execute_result"
    }
   ],
   "source": [
    "business_dev_manager_details"
   ]
  },
  {
   "cell_type": "code",
   "execution_count": 12,
   "metadata": {},
   "outputs": [],
   "source": [
    "import json\n",
    "\n",
    "business_dev_manager_details = json.loads(business_dev_manager_details)\n",
    "software_engineering_details = json.loads(software_engineering_details)"
   ]
  },
  {
   "cell_type": "code",
   "execution_count": 16,
   "metadata": {},
   "outputs": [
    {
     "name": "stdout",
     "output_type": "stream",
     "text": [
      "{'is_resume': 'True', 'skills': ['CSS', 'Javascript', 'Python', 'Advanced SAP', 'HTML and XML', 'Scrum Methodology', 'Database management software', 'Software Development Life Cycle'], 'years_of_experience': 6, 'experience_summary': 'Software Engineer with over six years of experience in full-stack development and leading product cycle from conception to completion. Guided a team of 5-15 members through 5+ product launches at a recent experience in a high growth technology startup.', 'achievements': ['increased conversion rate by 15%', 'launched a new application in just 6 months, ahead of schedule by 6 months', 'increased efﬁciency rate by 35%', 'increased mobile trafﬁc by 22%', 'created website leads increase by 15%', 'increased task success rate by 25%'], 'highest_education': 'Bachelors', 'specialization': 'Electrical Engineering'}\n"
     ]
    }
   ],
   "source": [
    "print(software_engineering_details)"
   ]
  },
  {
   "cell_type": "code",
   "execution_count": 15,
   "metadata": {},
   "outputs": [
    {
     "name": "stdout",
     "output_type": "stream",
     "text": [
      "{'is_resume': 'True', 'skills': ['Microsoft Access', 'Excel', 'CRM', 'D2C ECommerce', 'SEO/SEM', 'Project Management Professional (PMP)', 'ABC Certification', 'Certified Business Analysis Professional (2013)'], 'years_of_experience': 8, 'experience_summary': 'Generated 300+ leads per month in a team of 5+ sales and marketing employees. Landed 25 global accounts in 8 months through new account strategy. Cut costs by $1 million annually through redesigned marketing spending. Collaborated with leadership, engineering, and marketing teams to develop new offerings that raised sales $300k. Increased customer retention by 25% through facilitating the addition of new product lines unexplored by competitors. Persuaded 5 partners to invest over $200,000 in other entities. Coordinated and hosted 15+ conferences, events, and trips for the inside sales team of 10. Generated new business and long-term account opportunities through prospecting and cold-calling, resulting in over $60k in closed new and recurring business. Developed and implemented sales strategies that identified and produced new business in 3 states. Established CRM to improve account tracking, which improved efficiency by 25%. Responsible for 5+ projects directed toward strategic business and organizational objectives. Boosted website traffic by 500+ visitors within 30 days by implementing a social marketing campaign. Increased website efficiency by 30% through resign and improved content and conversion rate driven by consumer analysis. Assisted 10 investment and senior management staff with over 50 marketing and business development requests. Leveraged online presentation library to create finalist sales pitch presentations, supporting the increase of sales by 15%. Provided assistance on business development opportunities with over 15 new clients.', 'achievements': ['Generated 300+ leads per month', 'Landed 25 global accounts in 8 months', 'Cut costs by $1 million annually', 'Raised sales $300k', 'Increased customer retention by 25%', 'Persuaded 5 partners to invest over $200,000', 'Generated over $60k in closed new and recurring business', 'Boosted website traffic by 500+ visitors within 30 days', 'Increased website efficiency by 30%'], 'highest_education': 'Masters', 'specialization': 'Business Management'}\n"
     ]
    }
   ],
   "source": [
    "print(business_dev_manager_details)"
   ]
  }
 ],
 "metadata": {
  "kernelspec": {
   "display_name": "Python 3",
   "language": "python",
   "name": "python3"
  },
  "language_info": {
   "codemirror_mode": {
    "name": "ipython",
    "version": 3
   },
   "file_extension": ".py",
   "mimetype": "text/x-python",
   "name": "python",
   "nbconvert_exporter": "python",
   "pygments_lexer": "ipython3",
   "version": "3.10.11"
  },
  "orig_nbformat": 4
 },
 "nbformat": 4,
 "nbformat_minor": 2
}
