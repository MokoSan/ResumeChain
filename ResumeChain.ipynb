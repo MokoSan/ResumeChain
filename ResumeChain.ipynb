{
 "cells": [
  {
   "attachments": {},
   "cell_type": "markdown",
   "metadata": {},
   "source": [
    "# Resume Chain\n",
    "\n",
    "Steps:\n",
    "\n",
    "1. Read in the resume and the job spec.\n",
    "2. Scores the resume in terms of fit based on the job spec.\n",
    "3. Makes suggestions to improve the scoring of the match."
   ]
  },
  {
   "attachments": {},
   "cell_type": "markdown",
   "metadata": {},
   "source": [
    "## Prerequisites: Installing and Importing Modules"
   ]
  },
  {
   "cell_type": "code",
   "execution_count": 26,
   "metadata": {},
   "outputs": [],
   "source": [
    "# Install libraries.\n",
    "\n",
    "%%capture\n",
    "!pip install langchain\n",
    "!pip install openai \n",
    "!pip install \"unstructured[local-inference]\"\n",
    "!pip install chromadb\n",
    "!pip install tiktoken \n",
    "!pip install python-dotenv "
   ]
  },
  {
   "cell_type": "code",
   "execution_count": 2,
   "metadata": {},
   "outputs": [],
   "source": [
    "import os\n",
    "from langchain.chains import RetrievalQA\n",
    "import openai\n",
    "from dotenv import load_dotenv\n",
    "from langchain.llms import OpenAI\n",
    "from langchain.vectorstores import Chroma\n",
    "from langchain.embeddings.openai import OpenAIEmbeddings\n",
    "from langchain.document_loaders import UnstructuredPDFLoader\n",
    "from langchain.llms import OpenAI\n",
    "from langchain.chains.question_answering import load_qa_chain\n",
    "from langchain.document_loaders import TextLoader\n",
    "from langchain.text_splitter import CharacterTextSplitter\n",
    "import json"
   ]
  },
  {
   "cell_type": "code",
   "execution_count": 3,
   "metadata": {},
   "outputs": [],
   "source": [
    "openai.api_key = os.getenv(\"OPENAI_API_KEY\")"
   ]
  },
  {
   "attachments": {},
   "cell_type": "markdown",
   "metadata": {},
   "source": [
    "## Extracting Information From the Resume "
   ]
  },
  {
   "cell_type": "code",
   "execution_count": 4,
   "metadata": {},
   "outputs": [],
   "source": [
    "class ResumeExtractor(object):\n",
    "    def __init__(self, path : str) -> None:\n",
    "\n",
    "        # Precondition checks.\n",
    "        if path == \"\" or path == None:\n",
    "            raise ValueError(f\"The path provided: {path} is not a valid path.\")\n",
    "        if not path.endswith(\".pdf\"):\n",
    "            raise ValueError(f\"The path provided: {path} is not a valid pdf path.\") \n",
    "\n",
    "        self.path = path\n",
    "        loader = UnstructuredPDFLoader(path)\n",
    "        self.pages  = loader.load_and_split()\n",
    "        if (len(self.pages) > 1):\n",
    "            raise ValueError(f\"The resume provided has more than 1 page. Please send a resume with just one page.\")\n",
    "        embeddings = OpenAIEmbeddings()\n",
    "\n",
    "        # Just one page resumes accepted.\n",
    "        self.docsearch = Chroma.from_documents([self.pages[0]], embeddings).as_retriever(search_kwargs={ \"k\": 1 })\n",
    "        self.chain = load_qa_chain(OpenAI(temperature=0, max_tokens=2500), chain_type=\"stuff\")\n",
    "\n",
    "    def ask(self, question : str) -> str:\n",
    "        docs = self.docsearch.get_relevant_documents(question)\n",
    "        output = self.chain.run(input_documents=docs, question=question)\n",
    "        return output\n",
    "\n",
    "    def extract_details(self) -> str:\n",
    "        query_to_extract_info = \"\"\"Using the document, answer the following questions and output valid json with property names enclosed with double quotes with keys: \"is_resume\", \"skills\", \"years_of_experience\", \"experience_summary\", \"achievements\", \"highest_education\":\n",
    "\n",
    "        1. Is this document of a resume? Answer in \"True\" or \"False\". The answer should correspond to the \"is_resume\" key.\n",
    "        2. What are the candidates skills? The answer should be a json list associated with the \"skills\" key.\n",
    "        3. How many years of experience does the candidate have? The answer should correspond to the \"years_of_experience\" key.\n",
    "        4. Based on the candidate's experience, extract achievements that are backed by numbers that the candidate has made in the form of a json list associated with the \"achievements\" key.\n",
    "        5. What is the candidate's highest education and field of study?\"\"\"\n",
    "        return self.ask(query_to_extract_info)"
   ]
  },
  {
   "attachments": {},
   "cell_type": "markdown",
   "metadata": {},
   "source": [
    "### Software Engineering Resume Details"
   ]
  },
  {
   "cell_type": "code",
   "execution_count": 5,
   "metadata": {},
   "outputs": [
    {
     "data": {
      "text/plain": [
       "'FIRST LAST Bay Area, California • +1-234-456-789 • professionalemail@resumeworded.com • linkedin.com/in/username\\n\\nSoftware Engineer with over six years of experience in full-stack development and leading product cycle from conception to completion. Guided a team of 5-15 members through 5+ product launches at a recent experience in a high growth technology startup.\\n\\nPROFESSIONAL EXPERIENCE\\n\\nResume Worded, New York, NY Software Engineer\\n\\n2020 – Present\\n\\nCreated an invoicing system for subscription services that managed monthly invoices and\\n\\nprinted invoices to be sent to customers; increased conversion rate by 15%.\\n\\nCollaborated with internal teams, including graphic design and QA testers to develop and\\n\\nlaunch a new application in just 6 months, ahead of schedule by 6 months.\\n\\nWrote reusable unit test documents to ensure quality control and detect bugs by increasing\\n\\nover 35% efﬁciency rate.\\n\\nGrowthsi, San Diego, CA Software Engineer\\n\\n2016 – 2020\\n\\nAnalyzed information to determine, recommend and plan redesign of a new API; presented\\n\\noutputs to CTO..\\n\\nAnalyzed user needs and software requirements to determine feasibility of design, ensuring\\n\\nproject completion 3 weeks prior to targeted due date.\\n\\nReleased and updated 15+ custom .net applications for company clients in health niches. ● Wrote Python and JavaScript libraries to display real time pricing via SkyScanner’s ﬂights\\n\\npricing API, leading to increased customer satisfaction.\\n\\nTip to jobseeker: Bullet points should be in format [Action Verb] [Accomplishment] [Metric];\\n\\ne.g. Developed x that led to y% improvement\\n\\nRofocus, New York, NY Front-end Developer\\n\\n2012 – 2016\\n\\nImplemented a new responsive website approach increasing mobile trafﬁc by 22%. ● Partnered with back-end developers and created dynamic web pages using Javascript,\\n\\nresulting in website leads increase by 15%.\\n\\nCollaborated on APIs and managed software workﬂow using Scrum methodology,\\n\\nincreasing task success rate by 25%.\\n\\nTip to jobseeker: Bullet points should be in format [Action Verb] [Accomplishment] [Metric];\\n\\ne.g. Developed x that led to y% improvement\\n\\nEDUCATION\\n\\nResume Worded University, San Francisco, CA Bachelor of Electrical Engineering\\n\\n2012\\n\\nAwards: Resume Worded Teaching Fellow (only 5 awarded to class), Dean’s List 2012 (Top 10%) ● Completed one-year study abroad with Singapore University\\n\\nSKILLS & OTHER\\n\\nSkills: CSS, Javascript, Python, Advanced SAP, HTML and XML, Scrum Methodology, Database management software, Software Development Life Cycle Volunteering: Volunteered as Junior Developer in iOS hotel booking application launch project for 3- months (2020).'"
      ]
     },
     "execution_count": 5,
     "metadata": {},
     "output_type": "execute_result"
    }
   ],
   "source": [
    "software_engineer_doc = ResumeExtractor(\"./ResumeExamples/SoftwareEngineer.pdf\")\n",
    "software_engineer_doc.pages[0].page_content"
   ]
  },
  {
   "cell_type": "code",
   "execution_count": 6,
   "metadata": {},
   "outputs": [],
   "source": [
    "software_engineering_details = software_engineer_doc.extract_details()"
   ]
  },
  {
   "cell_type": "code",
   "execution_count": 10,
   "metadata": {},
   "outputs": [
    {
     "data": {
      "text/plain": [
       "{'is_resume': 'True',\n",
       " 'skills': ['CSS',\n",
       "  'Javascript',\n",
       "  'Python',\n",
       "  'Advanced SAP',\n",
       "  'HTML and XML',\n",
       "  'Scrum Methodology',\n",
       "  'Database management software',\n",
       "  'Software Development Life Cycle'],\n",
       " 'years_of_experience': 6,\n",
       " 'experience_summary': 'Software Engineer with over six years of experience in full-stack development and leading product cycle from conception to completion. Guided a team of 5-15 members through 5+ product launches at a recent experience in a high growth technology startup.',\n",
       " 'achievements': ['Increased conversion rate by 15%',\n",
       "  'Launched a new application in just 6 months, ahead of schedule by 6 months',\n",
       "  'Increased efﬁciency rate by 35%',\n",
       "  'Presented outputs to CTO',\n",
       "  'Ensured project completion 3 weeks prior to targeted due date',\n",
       "  'Released and updated 15+ custom .net applications for company clients in health niches',\n",
       "  'Increased mobile trafﬁc by 22%',\n",
       "  'Created dynamic web pages using Javascript, resulting in website leads increase by 15%',\n",
       "  'Increased task success rate by 25%'],\n",
       " 'highest_education': 'Bachelor of Electrical Engineering from Resume Worded University, San Francisco, CA'}"
      ]
     },
     "execution_count": 10,
     "metadata": {},
     "output_type": "execute_result"
    }
   ],
   "source": [
    "software_engineering_resume_details = json.loads(software_engineering_details)\n",
    "software_engineering_resume_details"
   ]
  },
  {
   "attachments": {},
   "cell_type": "markdown",
   "metadata": {},
   "source": [
    "### Investment Banking Resume Details"
   ]
  },
  {
   "cell_type": "code",
   "execution_count": 13,
   "metadata": {},
   "outputs": [],
   "source": [
    "investment_banking_associate_doc = ResumeExtractor(\"./ResumeExamples/InvestmentBankingAssociate.pdf\")"
   ]
  },
  {
   "cell_type": "code",
   "execution_count": 14,
   "metadata": {},
   "outputs": [],
   "source": [
    "investment_banking_associate_details = json.loads(investment_banking_associate_doc.extract_details())"
   ]
  },
  {
   "cell_type": "code",
   "execution_count": 15,
   "metadata": {},
   "outputs": [
    {
     "data": {
      "text/plain": [
       "{'is_resume': 'True',\n",
       " 'skills': ['Restructuring',\n",
       "  'Valuation',\n",
       "  'Financial Analysis',\n",
       "  'Financial Modeling Investment Banking',\n",
       "  'Mergers and Acquisitions',\n",
       "  'Leveraged Buyouts',\n",
       "  'Bond Issuance',\n",
       "  'Bloomberg Terminal',\n",
       "  'S&P Capital IQ',\n",
       "  'Microsoft Excel',\n",
       "  'LexisNexis',\n",
       "  \"Moody's RiskCalc\",\n",
       "  'Certified Financial Planner (CFP)',\n",
       "  'Series 7 License',\n",
       "  'Chartered Financial Analyst (CFA)'],\n",
       " 'years_of_experience': 10,\n",
       " 'experience_summary': 'Investment banking associate with 10 years of experience executing transactions and providing world-class client service. Possesses exceptional knowledge of M&A, leveraged finance, and capital markets.',\n",
       " 'achievements': ['Identified ways to streamline cost savings with 17 Asian counterparts, resulting in a 90% increase in monthly revenue',\n",
       "  'Delivered marketing pitches to 17 C-suite members of 1.2K large corporate clients in the first six months of employment',\n",
       "  'Evaluated administrative costs and created a firmwide cost-saving measure during an organization-wide budget review, producing monthly savings of $760K',\n",
       "  'Overhauled Growthsi financial analysis methods, boosting accuracy by 72% while decreasing time spent number-crunching from 48 hours to 45 minutes/week',\n",
       "  'Championed a procedure for evaluating and improving liquidity ratios across 21 divisions, leading to annual profits of $983K',\n",
       "  'Raised the credit rating of RWEC to AAA by reducing accounts receivable and maintaining a minimum debt-to-equity ratio of 1:1',\n",
       "  \"Exceeded departmental KPIs by making a 57% return on a client's $700K investment portfolio\",\n",
       "  'Invested funds in bonds over stocks due to market fluctuation, preserving assets of $8.3M within 13 weeks of implementation',\n",
       "  \"Overhauled the company's payroll system to reduce the processing time by >84% with no reduction in accuracy\"],\n",
       " 'highest_education': 'Bachelor of Science Business Administration from Resume Worded University'}"
      ]
     },
     "execution_count": 15,
     "metadata": {},
     "output_type": "execute_result"
    }
   ],
   "source": [
    "investment_banking_associate_details"
   ]
  },
  {
   "attachments": {},
   "cell_type": "markdown",
   "metadata": {},
   "source": [
    "### Business Development Manager"
   ]
  },
  {
   "cell_type": "code",
   "execution_count": 17,
   "metadata": {},
   "outputs": [],
   "source": [
    "business_development_manager_doc = ResumeExtractor(\"./ResumeExamples/BusinessDevelopmentManager.pdf\")"
   ]
  },
  {
   "cell_type": "code",
   "execution_count": 18,
   "metadata": {},
   "outputs": [
    {
     "data": {
      "text/plain": [
       "{'is_resume': 'True',\n",
       " 'skills': ['Microsoft Access',\n",
       "  'Excel',\n",
       "  'CRM',\n",
       "  'D2C ECommerce',\n",
       "  'SEO/SEM',\n",
       "  'Project Management Professional (PMP)',\n",
       "  'ABC Certification',\n",
       "  'Certified Business Analysis Professional (2013)'],\n",
       " 'years_of_experience': 8,\n",
       " 'experience_summary': 'Generated 300+ leads per month, landed 25 global accounts in 8 months, cut costs by $1 million annually, collaborated with leadership, engineering, and marketing teams to develop new offerings that raised sales $300k, increased customer retention by 25%, persuaded 5 partners to invest over $200,000 in other entities, coordinated and hosted 15+ conferences, events, and trips for the inside sales team of 10, generated new business and long-term account opportunities through prospecting and cold-calling, resulting in over $60k in closed new and recurring business, developed and implemented sales strategies that identified and produced new business in 3 states, established CRM to improve account tracking, which improved efficiency by 25%, boosted website traffic by 500+ visitors within 30 days, increased website efficiency by 30%, assisted 10 investment and senior management staff with over 50 marketing and business development requests, leveraged online presentation library to create finalist sales pitch presentations, supporting the increase of sales by 15%, provided assistance on business development opportunities with over 15 new clients',\n",
       " 'achievements': ['Generated 300+ leads per month',\n",
       "  'Landed 25 global accounts in 8 months',\n",
       "  'Cut costs by $1 million annually',\n",
       "  'Increased customer retention by 25%',\n",
       "  'Persuaded 5 partners to invest over $200,000 in other entities',\n",
       "  'Boosted website traffic by 500+ visitors within 30 days',\n",
       "  'Increased website efficiency by 30%',\n",
       "  'Established CRM to improve account tracking, which improved efficiency by 25%',\n",
       "  'Supported the increase of sales by 15%'],\n",
       " 'highest_education': 'Master of Business Management; Minor in Business Analytics'}"
      ]
     },
     "execution_count": 18,
     "metadata": {},
     "output_type": "execute_result"
    }
   ],
   "source": [
    "business_dev_manager_details = json.loads(business_development_manager_doc.extract_details())\n",
    "business_dev_manager_details"
   ]
  },
  {
   "attachments": {},
   "cell_type": "markdown",
   "metadata": {},
   "source": [
    "## Extracting Information From The Job Description"
   ]
  },
  {
   "cell_type": "code",
   "execution_count": 5,
   "metadata": {},
   "outputs": [],
   "source": [
    "class JobDescriptionExtractor(object):\n",
    "    def __init__(self, path : str):\n",
    "        # Precondition checks.\n",
    "        if path == \"\" or path == None:\n",
    "            raise ValueError(f\"The path provided: {path} is not a valid path.\")\n",
    "\n",
    "        self.path = path\n",
    "        self.loader = TextLoader(path)\n",
    "        documents = self.loader.load()\n",
    "        #text_splitter = CharacterTextSplitter(chunk_size=1000, chunk_overlap=200)\n",
    "        #texts = text_splitter.split_documents(documents)\n",
    "        from langchain.indexes import VectorstoreIndexCreator\n",
    "        self.index = VectorstoreIndexCreator().from_loaders([self.loader])\n",
    "        #embeddings = OpenAIEmbeddings()\n",
    "        #self.docsearch = Chroma.from_documents(texts, embeddings).as_retriever(search_kwargs = { \"k\" : 1 })\n",
    "        #llm = OpenAI(temperature= 0, max_tokens=3000)\n",
    "        #self.chain = RetrievalQA.from_chain_type(llm=llm, chain_type=\"stuff\", retriever=self.docsearch)\n",
    "\n",
    "    def ask(self, question : str) -> str:\n",
    "        output = self.index.query(question)\n",
    "        return output\n",
    "\n",
    "    def extract_details(self) -> str:\n",
    "        query_to_extract_info = \"\"\"Using the document, answer the following questions and output valid json with property names enclosed with double quotes with keys: \"is_job_description\", \"skills_required\", \"responsibilities\", \"qualifications\", \"preferences\":\n",
    "\n",
    "        1. Is this document of a job description? Answer in \"True\" or \"False\". The answer should correspond to the \"is_job_description\" key.\n",
    "        2. What are the skills required? The answer should be a json list associated with the \"skills_required\" key.\n",
    "        3. What are the responsibilities? The answer should be a json list associated with the \"responsibilities\" key.\n",
    "        4. What are the qualifications required? The answer should be in the form of a json list associated with the \"qualifications\" key.\n",
    "        5. What are the preferences or preferred qualifications or skills? The answer should be in the form of a json list associated with the preferences key.\n",
    "        \"\"\" \n",
    "        return self.ask(query_to_extract_info)"
   ]
  },
  {
   "attachments": {},
   "cell_type": "markdown",
   "metadata": {},
   "source": [
    "### Software Engineering Job Description"
   ]
  },
  {
   "cell_type": "code",
   "execution_count": 6,
   "metadata": {},
   "outputs": [],
   "source": [
    "software_engineer_job_description = JobDescriptionExtractor(\"./JobDescriptions/SoftwareEngineering.txt\")"
   ]
  },
  {
   "cell_type": "code",
   "execution_count": 7,
   "metadata": {},
   "outputs": [
    {
     "name": "stderr",
     "output_type": "stream",
     "text": [
      "Number of requested results 4 is greater than number of elements in index 2, updating n_results = 2\n"
     ]
    }
   ],
   "source": [
    "software_engineer_job_details  = json.loads(software_engineer_job_description.extract_details())"
   ]
  },
  {
   "cell_type": "code",
   "execution_count": 8,
   "metadata": {},
   "outputs": [
    {
     "data": {
      "text/plain": [
       "{'is_job_description': 'True',\n",
       " 'skills_required': ['C#', '.NET Core', 'Azure DevOps', 'Angular', 'Agile'],\n",
       " 'responsibilities': ['Bring fresh ideas to the table and collaborate with their eclectic team of .NET Software Engineer',\n",
       "  'Approach tasks and projects the way you want, allowing you to diversify your skillset and fast-track your career'],\n",
       " 'qualifications': ['Good experience with C#, .NET Core, Azure DevOps, Angular, and Agile'],\n",
       " 'preferences': ['Work onsite 5-days per week',\n",
       "  'Generous salary',\n",
       "  'Holiday pay',\n",
       "  'PTO',\n",
       "  'Medical & dental insurance',\n",
       "  'Clear career pathway for progression and promotion',\n",
       "  'Training']}"
      ]
     },
     "execution_count": 8,
     "metadata": {},
     "output_type": "execute_result"
    }
   ],
   "source": [
    "software_engineer_job_details"
   ]
  },
  {
   "attachments": {},
   "cell_type": "markdown",
   "metadata": {},
   "source": [
    "### Investment Banking Job Description"
   ]
  },
  {
   "cell_type": "code",
   "execution_count": 29,
   "metadata": {},
   "outputs": [],
   "source": [
    "investment_banking_job_description = JobDescriptionExtractor(\"./JobDescriptions/InvestmentBankingAssociate.txt\")"
   ]
  },
  {
   "cell_type": "code",
   "execution_count": 30,
   "metadata": {},
   "outputs": [],
   "source": [
    "investment_banking_job_details = json.loads(investment_banking_job_description.extract_details())"
   ]
  },
  {
   "cell_type": "code",
   "execution_count": 31,
   "metadata": {},
   "outputs": [
    {
     "data": {
      "text/plain": [
       "{'is_job_description': 'True',\n",
       " 'skills_required': ['Strong leadership skills',\n",
       "  'Ability to assess risks inherent in complex credit transactions and mitigate, structure and negotiate accordingly',\n",
       "  'Excellent problem solving, oral, and written communication skills',\n",
       "  'Extensive knowledge of products and services'],\n",
       " 'responsibilities': ['Champion a culture of innovation and a customer centric mindset',\n",
       "  'Stay up-to-date with industry trends to identify opportunities for innovation or strategic partnerships',\n",
       "  'Find ways to increase efficiency with existing technical infrastructure through automation, while embracing the innovative opportunities offered by new technologies'],\n",
       " 'qualifications': ['3+ years with above average performance results in a similar banking role or credit/lending related experience'],\n",
       " 'preferences': ['Bachelors degree preferred',\n",
       "  'Superior knowledge of the market dynamics and landscape preferred',\n",
       "  'Outstanding professional reputation and integrity']}"
      ]
     },
     "execution_count": 31,
     "metadata": {},
     "output_type": "execute_result"
    }
   ],
   "source": [
    "investment_banking_job_details"
   ]
  },
  {
   "attachments": {},
   "cell_type": "markdown",
   "metadata": {},
   "source": [
    "### Business Development Manager Job Description"
   ]
  },
  {
   "cell_type": "code",
   "execution_count": 33,
   "metadata": {},
   "outputs": [],
   "source": [
    "business_dev_manager_job_description = JobDescriptionExtractor(\"./JobDescriptions/InvestmentBankingAssociate.txt\")"
   ]
  },
  {
   "cell_type": "code",
   "execution_count": 34,
   "metadata": {},
   "outputs": [],
   "source": [
    "business_dev_manager_job_details = json.loads(business_dev_manager_job_description.extract_details())"
   ]
  },
  {
   "cell_type": "code",
   "execution_count": 35,
   "metadata": {},
   "outputs": [
    {
     "data": {
      "text/plain": [
       "{'is_job_description': 'True',\n",
       " 'skills_required': ['Strong leadership skills',\n",
       "  'Ability to assess risks inherent in complex credit transactions and mitigate, structure and negotiate accordingly',\n",
       "  'Excellent problem solving, oral, and written communication skills',\n",
       "  'Extensive knowledge of products and services'],\n",
       " 'responsibilities': ['Champion a culture of innovation and a customer centric mindset',\n",
       "  'Stay up-to-date with industry trends to identify opportunities for innovation or strategic partnerships',\n",
       "  'Find ways to increase efficiency with existing technical infrastructure through automation, while embracing the innovative opportunities offered by new technologies'],\n",
       " 'qualifications': ['3+ years with above average performance results in a similar banking role or credit/lending related experience'],\n",
       " 'preferences': ['Bachelors degree preferred',\n",
       "  'Superior knowledge of the market dynamics and landscape preferred',\n",
       "  'Outstanding professional reputation and integrity']}"
      ]
     },
     "execution_count": 35,
     "metadata": {},
     "output_type": "execute_result"
    }
   ],
   "source": [
    "business_dev_manager_job_details"
   ]
  },
  {
   "attachments": {},
   "cell_type": "markdown",
   "metadata": {},
   "source": [
    "## Semantic Comparison "
   ]
  },
  {
   "cell_type": "code",
   "execution_count": 57,
   "metadata": {},
   "outputs": [],
   "source": [
    "import openai\n",
    "\n",
    "class ResumeComparer(object):\n",
    "    def __init__(self, resume_details : json, job_description_details : json): \n",
    "        self.resume_details = resume_details\n",
    "        self.job_description_details = job_description_details\n",
    "        self.messages = [{\"role\": \"system\", \"content\" : \"You are a sophisticated career advisor who is trying to discern if the resume data matches that of the job description.\"}]\n",
    "\n",
    "    '''TODO: Improve this.\n",
    "    def __chat_completion(self, query : str) -> str:\n",
    "        model=\"gpt-3.5-turbo\",\n",
    "        response = openai.ChatCompletion.create(\n",
    "            model=model\n",
    "            messages=self.messages,\n",
    "            temperature=0, # this is the degree of randomness of the model's output\n",
    "        )\n",
    "        response_text = (response.choices[0].message[\"content\"])\n",
    "        return response_text\n",
    "    '''\n",
    "\n",
    "    def extract_details(self) -> dict:\n",
    "\n",
    "        # Comparison 1.\n",
    "        query_to_extract_info = f\"\"\"Based on just the two following json objects of resume details and job description details {self.resume_details} and {self.job_description_details},\n",
    "        check or suggest the following in a list like fashion:\n",
    "        1. Check if the resume details match the job description requirements and qualifications.\n",
    "        2. The main differences.\n",
    "        3. The similarities.\n",
    "        4. Suggest improvements to the resume.\n",
    "        \"\"\" \n",
    "        self.messages.append( {\"role\": \"user\", \"content\": query_to_extract_info} )\n",
    "        response = openai.ChatCompletion.create(\n",
    "            model=\"gpt-3.5-turbo\",\n",
    "            messages=self.messages,\n",
    "            temperature=0, # this is the degree of randomness of the model's output\n",
    "        )\n",
    "        response_text = (response.choices[0].message[\"content\"])\n",
    "\n",
    "        # Chain in comparison.\n",
    "        query_specifics = \"Provide detailed suggestions that'll make the candidate's chance of getting the said job most probable quoting specific lines in the resume that need to be changed.\"\n",
    "        self.messages.append({\"role\" : \"assistant\", \"content\" : response_text})\n",
    "        self.messages.append({\"role\" : \"user\", \"content\" : query_specifics}) \n",
    "\n",
    "        response = openai.ChatCompletion.create(\n",
    "            model=\"gpt-3.5-turbo\",\n",
    "            messages=self.messages,\n",
    "            temperature=0, # this is the degree of randomness of the model's output\n",
    "        )\n",
    "        return {\"summary\": response_text, \"specifics\": response.choices[0].message[\"content\"] }"
   ]
  },
  {
   "attachments": {},
   "cell_type": "markdown",
   "metadata": {},
   "source": [
    "### Software Engineer Resume vs. Job Description Comparison"
   ]
  },
  {
   "cell_type": "code",
   "execution_count": 44,
   "metadata": {},
   "outputs": [],
   "source": [
    "software_engineering_comparison = ResumeComparer(software_engineering_resume_details, software_engineer_job_description)\n",
    "software_engineering_comparison_extracted = software_engineering_comparison.extract_details()"
   ]
  },
  {
   "cell_type": "code",
   "execution_count": 49,
   "metadata": {},
   "outputs": [
    {
     "data": {
      "text/plain": [
       "{'summary': \"1. Based on the provided resume details and job description, there are some similarities and differences. The resume details indicate that the candidate has experience in full-stack development, leading product cycles, and has knowledge of CSS, Javascript, Python, Advanced SAP, HTML and XML, Scrum Methodology, Database management software, and Software Development Life Cycle. The job description requires experience in full-stack development, knowledge of Javascript, Python, and HTML/CSS, and experience with Agile/Scrum methodologies. The candidate's experience and skills seem to match the job requirements to some extent, but further analysis is needed to determine if they are a good fit for the role.\\n\\n2. The main differences between the resume details and job description are that the job description requires experience with Agile/Scrum methodologies, while the resume only mentions Scrum Methodology. Additionally, the job description requires knowledge of HTML/CSS, while the resume only mentions HTML and XML. The job description also does not mention Advanced SAP, which is listed on the resume.\\n\\n3. The similarities between the resume details and job description are that both require experience in full-stack development and knowledge of Javascript and Python.\\n\\n4. Based on the job description, it would be beneficial for the candidate to highlight their experience with Agile/Scrum methodologies and their knowledge of HTML/CSS. Additionally, they may want to consider removing Advanced SAP from their resume if it is not relevant to the job requirements.\",\n",
       " 'specifics': 'Based on the job description, here are some specific suggestions to improve the candidate\\'s chances of getting the job:\\n\\n1. Highlight experience with Agile/Scrum methodologies: The job description specifically mentions experience with Agile/Scrum methodologies, but the resume only mentions Scrum Methodology. To improve the candidate\\'s chances, they should highlight any experience they have with Agile methodologies, such as working in Agile teams or using Agile tools. They could also consider adding a section to their resume specifically highlighting their experience with Agile/Scrum methodologies.\\n\\n2. Emphasize knowledge of HTML/CSS: The job description requires knowledge of HTML/CSS, but the resume only mentions HTML and XML. To improve the candidate\\'s chances, they should emphasize their knowledge of HTML/CSS and provide specific examples of projects they have worked on that required this knowledge. For example, they could add a bullet point to their skills section that says \"Proficient in HTML/CSS for front-end web development.\"\\n\\n3. Remove irrelevant skills: The job description does not mention Advanced SAP, which is listed on the resume. To avoid confusion and make the resume more focused, the candidate should consider removing any skills that are not directly relevant to the job requirements.\\n\\n4. Quantify achievements: The candidate\\'s resume includes a list of achievements, but they are not quantified. To make these achievements more impactful, the candidate should consider adding specific numbers or percentages to show the impact of their work. For example, instead of saying \"Increased conversion rate,\" they could say \"Increased conversion rate by 15%.\"\\n\\n5. Customize the resume for the job: Finally, the candidate should customize their resume to specifically match the job requirements. This could include reordering sections to highlight relevant experience and skills, using keywords from the job description, and tailoring their achievements to match the company\\'s goals. By customizing their resume, the candidate can show that they are a good fit for the job and increase their chances of getting hired.'}"
      ]
     },
     "execution_count": 49,
     "metadata": {},
     "output_type": "execute_result"
    }
   ],
   "source": [
    "software_engineering_comparison_extracted"
   ]
  },
  {
   "cell_type": "code",
   "execution_count": 48,
   "metadata": {},
   "outputs": [],
   "source": [
    "with open('./Comparisons/SoftwareEngineeringComparison.json', 'w') as f:\n",
    "    f.write(json.dumps(software_engineering_comparison_extracted, indent= 3))"
   ]
  },
  {
   "attachments": {},
   "cell_type": "markdown",
   "metadata": {},
   "source": [
    "### Investment Banking Associate Resume vs. Job Description Comparison"
   ]
  },
  {
   "cell_type": "code",
   "execution_count": 50,
   "metadata": {},
   "outputs": [],
   "source": [
    "investment_banking_comparison = ResumeComparer(investment_banking_associate_details, investment_banking_job_details)\n",
    "investment_banking_comparison_extracted = investment_banking_comparison.extract_details()"
   ]
  },
  {
   "cell_type": "code",
   "execution_count": 51,
   "metadata": {},
   "outputs": [
    {
     "data": {
      "text/plain": [
       "{'summary': \"1. Check if the resume details match the job description requirements and qualifications:\\n- The resume details show that the candidate has 10 years of experience in investment banking, which meets the job description's requirement of 3+ years of experience in a similar banking role or credit/lending related experience.\\n- The candidate's skills in restructuring, valuation, financial analysis, financial modeling, investment banking, mergers and acquisitions, leveraged buyouts, bond issuance, Bloomberg Terminal, S&P Capital IQ, Microsoft Excel, LexisNexis, Moody's RiskCalc, Certified Financial Planner (CFP), Series 7 License, and Chartered Financial Analyst (CFA) match the job description's requirement of extensive knowledge of products and services.\\n- The candidate's achievements in cost savings, marketing, cost-saving measures, financial analysis, liquidity ratios, credit rating, investment portfolio, bond investments, and payroll system overhaul demonstrate strong problem-solving, oral, and written communication skills, which match the job description's requirement of excellent problem solving, oral, and written communication skills.\\n\\n2. The main differences:\\n- The job description requires strong leadership skills, while the resume does not mention this explicitly.\\n- The job description requires the ability to assess risks inherent in complex credit transactions and mitigate, structure, and negotiate accordingly, while the resume does not mention this explicitly.\\n- The job description prefers a bachelor's degree and superior knowledge of the market dynamics and landscape, while the resume only mentions a Bachelor of Science in Business Administration.\\n\\n3. The similarities:\\n- Both the job description and the resume emphasize the importance of innovation and efficiency.\\n- Both the job description and the resume require extensive knowledge of products and services.\\n\\n4. Suggest improvements to the resume:\\n- The candidate could highlight their leadership skills and experience in leading teams or projects.\\n- The candidate could emphasize their experience in assessing risks inherent in complex credit transactions and mitigating, structuring, and negotiating accordingly.\\n- The candidate could mention any additional education or certifications they have that demonstrate superior knowledge of the market dynamics and landscape.\",\n",
       " 'specifics': 'To increase the candidate\\'s chances of getting the job, the following suggestions can be made:\\n\\n1. Emphasize leadership skills: The job description requires strong leadership skills, which the resume does not explicitly mention. To address this, the candidate can add a section to their resume that highlights their leadership experience. For example, they can mention any teams or projects they have led, and the results they achieved. They can also mention any leadership training or certifications they have received. \\n\\n2. Highlight risk assessment and mitigation skills: The job description requires the ability to assess risks inherent in complex credit transactions and mitigate, structure, and negotiate accordingly. The candidate can add a section to their resume that highlights their experience in this area. For example, they can mention any deals they have worked on where they had to assess and mitigate risks. They can also mention any risk management training or certifications they have received. \\n\\n3. Add more education details: The job description prefers a bachelor\\'s degree and superior knowledge of the market dynamics and landscape, while the resume only mentions a Bachelor of Science in Business Administration. The candidate can add more details about their education to their resume. For example, they can mention any relevant coursework they have taken, any honors or awards they have received, and any extracurricular activities they participated in. They can also mention any additional certifications or training they have received that demonstrate superior knowledge of the market dynamics and landscape. \\n\\n4. Use keywords from the job description: The job description mentions specific skills and qualifications that the candidate should have, such as \"Strong leadership skills\", \"Ability to assess risks inherent in complex credit transactions and mitigate, structure and negotiate accordingly\", and \"Bachelors degree preferred\". The candidate can use these keywords in their resume to show that they meet the job requirements. For example, they can mention their \"strong leadership skills\" in their summary or skills section, and mention their \"ability to assess risks inherent in complex credit transactions and mitigate, structure, and negotiate accordingly\" in their experience section. They can also mention their Bachelor of Science in Business Administration degree and any other relevant education or certifications they have received. \\n\\nBy implementing these suggestions, the candidate can make their resume more tailored to the job description and increase their chances of getting the job.'}"
      ]
     },
     "execution_count": 51,
     "metadata": {},
     "output_type": "execute_result"
    }
   ],
   "source": [
    "investment_banking_comparison_extracted"
   ]
  },
  {
   "cell_type": "code",
   "execution_count": 53,
   "metadata": {},
   "outputs": [],
   "source": [
    "with open('./Comparisons/InvestmentBankingComparison.json', 'w') as f:\n",
    "    f.write(json.dumps(investment_banking_comparison_extracted, indent= 3))"
   ]
  },
  {
   "attachments": {},
   "cell_type": "markdown",
   "metadata": {},
   "source": [
    "### Business Development Manager Resume vs. Job Description Comparison"
   ]
  },
  {
   "cell_type": "code",
   "execution_count": 54,
   "metadata": {},
   "outputs": [],
   "source": [
    "business_development_comparison = ResumeComparer(business_dev_manager_job_details, business_dev_manager_job_details)\n",
    "business_development_comparison_extracted = business_development_comparison.extract_details()"
   ]
  },
  {
   "cell_type": "code",
   "execution_count": 55,
   "metadata": {},
   "outputs": [
    {
     "data": {
      "text/plain": [
       "{'summary': '1. The resume details match the job description requirements and qualifications.\\n2. There are no main differences between the resume details and the job description requirements and qualifications.\\n3. The similarities between the resume details and the job description requirements and qualifications are:\\n- Strong leadership skills\\n- Ability to assess risks inherent in complex credit transactions and mitigate, structure and negotiate accordingly\\n- Excellent problem solving, oral, and written communication skills\\n- Extensive knowledge of products and services\\n- Champion a culture of innovation and a customer centric mindset\\n- Stay up-to-date with industry trends to identify opportunities for innovation or strategic partnerships\\n- Find ways to increase efficiency with existing technical infrastructure through automation, while embracing the innovative opportunities offered by new technologies\\n- 3+ years with above average performance results in a similar banking role or credit/lending related experience\\n- Bachelors degree preferred\\n- Superior knowledge of the market dynamics and landscape preferred\\n- Outstanding professional reputation and integrity\\n4. Based on the information provided, it is not possible to suggest improvements to the resume.',\n",
       " 'specifics': 'Unfortunately, as the resume details were not provided in the initial prompt, I cannot provide specific suggestions for improvement. However, based on the job description details provided, here are some general suggestions for the candidate to consider:\\n\\n1. Highlight relevant experience: The job description mentions that the candidate should have \"3+ years with above average performance results in a similar banking role or credit/lending related experience.\" The candidate should make sure to highlight any relevant experience they have in their resume, including specific achievements and accomplishments.\\n\\n2. Emphasize leadership skills: The job description mentions that the candidate should have \"Strong leadership skills.\" The candidate should make sure to highlight any leadership experience they have, including managing teams or projects.\\n\\n3. Showcase problem-solving skills: The job description mentions that the candidate should have \"Excellent problem solving, oral, and written communication skills.\" The candidate should make sure to highlight any experience they have in solving complex problems, including specific examples of how they approached and solved these problems.\\n\\n4. Demonstrate knowledge of products and services: The job description mentions that the candidate should have \"Extensive knowledge of products and services.\" The candidate should make sure to highlight any relevant knowledge they have in their resume, including any certifications or training they have completed.\\n\\n5. Highlight innovation and customer-centric mindset: The job description mentions that the candidate should \"Champion a culture of innovation and a customer centric mindset.\" The candidate should make sure to highlight any experience they have in driving innovation or putting the customer first, including specific examples of how they did so.\\n\\n6. Emphasize staying up-to-date with industry trends: The job description mentions that the candidate should \"Stay up-to-date with industry trends to identify opportunities for innovation or strategic partnerships.\" The candidate should make sure to highlight any experience they have in staying up-to-date with industry trends, including any relevant publications they have written or conferences they have attended.\\n\\n7. Highlight education and professional reputation: The job description mentions that the candidate should have a \"Bachelors degree preferred\" and an \"Outstanding professional reputation and integrity.\" The candidate should make sure to highlight their education and any relevant certifications they have, as well as any awards or recognition they have received for their work. They should also make sure to emphasize their professional reputation and integrity, including any testimonials or references they can provide.'}"
      ]
     },
     "execution_count": 55,
     "metadata": {},
     "output_type": "execute_result"
    }
   ],
   "source": [
    "business_development_comparison_extracted"
   ]
  },
  {
   "cell_type": "code",
   "execution_count": 56,
   "metadata": {},
   "outputs": [],
   "source": [
    "with open('./Comparisons/BusinessDevelopmentManager.json', 'w') as f:\n",
    "    f.write(json.dumps(business_development_comparison_extracted, indent= 3))"
   ]
  },
  {
   "attachments": {},
   "cell_type": "markdown",
   "metadata": {},
   "source": [
    "## PDF Annotations"
   ]
  },
  {
   "cell_type": "code",
   "execution_count": 20,
   "metadata": {},
   "outputs": [
    {
     "name": "stdout",
     "output_type": "stream",
     "text": [
      "Processing next page...\n",
      "At (69.09142125, 767.024002862) is text: FIRST LAST\n",
      "Bay Area, California • +1-234-456-789 • professionalemail@resumeworded.com • linkedin.com/in/username\n",
      "\n",
      "At (57.148429875, 720.2899936365) is text: Software Engineer with over six years of experience in full-stack development and leading product\n",
      "cycle from conception to completion. Guided a team of 5-15 members through 5+ product launches\n",
      "at a recent experience in a high growth technology startup.\n",
      "\n",
      "At (222.37683, 666.0789942712499) is text: PROFESSIONAL EXPERIENCE\n",
      "\n",
      "At (54.0, 642.8289942712499) is text: Resume Worded, New York, NY\n",
      "Software Engineer\n",
      "\n",
      "At (476.600415, 642.8289942712499) is text: 2020 – Present\n",
      "\n",
      "At (72.0, 614.9308490604785) is text: ● Created an invoicing system for subscription services that managed monthly invoices and\n",
      "\n",
      "At (90.0, 601.0400096365001) is text: printed invoices to be sent to customers; increased conversion rate by 15%.\n",
      "\n",
      "At (72.0, 587.9308690604786) is text: ● Collaborated with internal teams, including graphic design and QA testers to develop and\n",
      "\n",
      "At (90.0, 574.0400096365001) is text: launch a new application in just 6 months, ahead of schedule by 6 months.\n",
      "\n",
      "At (72.0, 560.9308690604786) is text: ● Wrote reusable unit test documents to ensure quality control and detect bugs by increasing\n",
      "\n",
      "At (90.0, 547.0400096365001) is text: over 35% efﬁciency rate.\n",
      "\n",
      "At (54.0, 519.8290202712501) is text: Growthsi, San Diego, CA\n",
      "Software Engineer\n",
      "\n",
      "At (494.94620999999995, 519.8290202712501) is text: 2016 – 2020\n",
      "\n",
      "At (72.0, 491.9308790604785) is text: ● Analyzed information to determine, recommend and plan redesign of a new API; presented\n",
      "\n",
      "At (90.0, 478.0400196365) is text: outputs to CTO..\n",
      "\n",
      "At (72.0, 464.9308790604785) is text: ● Analyzed user needs and software requirements to determine feasibility of design, ensuring\n",
      "\n",
      "At (90.0, 451.0400196365) is text: project completion 3 weeks prior to targeted due date.\n",
      "\n",
      "At (72.0, 437.9308790604785) is text: ● Released and updated 15+ custom .net applications for company clients in health niches.\n",
      "● Wrote Python and JavaScript libraries to display real time pricing via SkyScanner’s ﬂights\n",
      "\n",
      "At (90.0, 410.5400196365) is text: pricing API, leading to increased customer satisfaction.\n",
      "\n",
      "At (72.0, 397.4308790604785) is text: ● Tip to jobseeker: Bullet points should be in format [Action Verb] [Accomplishment] [Metric];\n",
      "\n",
      "At (90.0, 383.5400196365) is text: e.g. Developed x that led to y% improvement\n",
      "\n",
      "At (54.0, 356.32902027125) is text: Rofocus, New York, NY\n",
      "Front-end Developer\n",
      "\n",
      "At (498.2108475, 356.32902027125) is text: 2012 – 2016\n",
      "\n",
      "At (72.0, 328.4308790604785) is text: ● Implemented a new responsive website approach increasing mobile trafﬁc by 22%.\n",
      "● Partnered with back-end developers and created dynamic web pages using Javascript,\n",
      "\n",
      "At (90.0, 301.0400196365) is text: resulting in website leads increase by 15%.\n",
      "\n",
      "At (72.0, 287.9308790604785) is text: ● Collaborated on APIs and managed software workﬂow using  Scrum methodology,\n",
      "\n",
      "At (90.0, 274.04001963650006) is text: increasing task success rate by 25%.\n",
      "\n",
      "At (72.0, 260.93087906047856) is text: ● Tip to jobseeker: Bullet points should be in format [Action Verb] [Accomplishment] [Metric];\n",
      "\n",
      "At (90.0, 247.04001963650003) is text: e.g. Developed x that led to y% improvement\n",
      "\n",
      "At (271.19329500000003, 222.07902027125004) is text: EDUCATION\n",
      "\n",
      "At (54.0, 198.82902027125004) is text: Resume Worded University, San Francisco, CA\n",
      "Bachelor of Electrical Engineering\n",
      "\n",
      "At (534.3338025, 198.82902027125004) is text: 2012\n",
      "\n",
      "At (72.0, 170.93087906047856) is text: ● Awards: Resume Worded Teaching Fellow (only 5 awarded to class), Dean’s List 2012 (Top 10%)\n",
      "● Completed one-year study abroad with Singapore University\n",
      "\n",
      "At (259.23911999999996, 132.07902027125004) is text: SKILLS & OTHER\n",
      "\n",
      "At (54.0, 109.04001963650003) is text: Skills: CSS, Javascript, Python, Advanced SAP, HTML and XML, Scrum Methodology, Database\n",
      "management software, Software Development Life Cycle\n",
      "Volunteering: Volunteered  as Junior Developer in iOS hotel booking application launch project for 3-\n",
      "months (2020).\n",
      "\n"
     ]
    }
   ],
   "source": [
    "from pdfminer.layout import LAParams, LTTextBox\n",
    "from pdfminer.pdfpage import PDFPage\n",
    "from pdfminer.pdfinterp import PDFResourceManager\n",
    "from pdfminer.pdfinterp import PDFPageInterpreter\n",
    "from pdfminer.converter import PDFPageAggregator\n",
    "\n",
    "fp = open('./ResumeExamples/SoftwareEngineer.pdf', 'rb')\n",
    "rsrcmgr = PDFResourceManager()\n",
    "laparams = LAParams()\n",
    "device = PDFPageAggregator(rsrcmgr, laparams=laparams)\n",
    "interpreter = PDFPageInterpreter(rsrcmgr, device)\n",
    "pages = PDFPage.get_pages(fp)\n",
    "\n",
    "x, y = 0, 0\n",
    "text_to_coordinates = {}\n",
    "\n",
    "for page in pages:\n",
    "    print('Processing next page...')\n",
    "    interpreter.process_page(page)\n",
    "    layout = device.get_result()\n",
    "    for lobj in layout:\n",
    "        if isinstance(lobj, LTTextBox):\n",
    "            x, y, text = lobj.bbox[0], lobj.bbox[3], lobj.get_text()\n",
    "            text_to_coordinates[text] = x, y\n",
    "            print('At %r is text: %s' % ((x, y), text))"
   ]
  },
  {
   "cell_type": "code",
   "execution_count": null,
   "metadata": {},
   "outputs": [],
   "source": [
    "from pdf_annotate import PdfAnnotator, Location, Appearance\n",
    "a = PdfAnnotator('./ResumeExamples/SoftwareEngineer.pdf')\n",
    "\n",
    "x, y = text_to_coordinates['FIRST LAST\\n']\n",
    "\n",
    "a.add_annotation(\n",
    "    'square',\n",
    "    Location(x1=x, y1=y, x2=x+30, y2=y+30, page=0),\n",
    "    Appearance(stroke_color=(1, 0, 0), stroke_width=5),\n",
    ")\n",
    "\n",
    "    \n",
    "a.write('./b.pdf')  # or use overwrite=True if you feel lucky"
   ]
  }
 ],
 "metadata": {
  "kernelspec": {
   "display_name": "Python 3",
   "language": "python",
   "name": "python3"
  },
  "language_info": {
   "codemirror_mode": {
    "name": "ipython",
    "version": 3
   },
   "file_extension": ".py",
   "mimetype": "text/x-python",
   "name": "python",
   "nbconvert_exporter": "python",
   "pygments_lexer": "ipython3",
   "version": "3.10.11"
  },
  "orig_nbformat": 4
 },
 "nbformat": 4,
 "nbformat_minor": 2
}
